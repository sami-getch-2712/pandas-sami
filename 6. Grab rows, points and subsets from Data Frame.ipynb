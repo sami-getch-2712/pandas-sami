{
 "cells": [
  {
   "cell_type": "code",
   "execution_count": 3,
   "id": "b63af58d",
   "metadata": {},
   "outputs": [],
   "source": [
    "import pandas as pd\n"
   ]
  },
  {
   "cell_type": "code",
   "execution_count": 5,
   "id": "b2a622ac",
   "metadata": {},
   "outputs": [
    {
     "data": {
      "text/html": [
       "<div>\n",
       "<style scoped>\n",
       "    .dataframe tbody tr th:only-of-type {\n",
       "        vertical-align: middle;\n",
       "    }\n",
       "\n",
       "    .dataframe tbody tr th {\n",
       "        vertical-align: top;\n",
       "    }\n",
       "\n",
       "    .dataframe thead th {\n",
       "        text-align: right;\n",
       "    }\n",
       "</style>\n",
       "<table border=\"1\" class=\"dataframe\">\n",
       "  <thead>\n",
       "    <tr style=\"text-align: right;\">\n",
       "      <th></th>\n",
       "      <th>name</th>\n",
       "      <th>yederesebet</th>\n",
       "      <th>debere</th>\n",
       "      <th>kihinete dereja</th>\n",
       "    </tr>\n",
       "  </thead>\n",
       "  <tbody>\n",
       "    <tr>\n",
       "      <th>0</th>\n",
       "      <td>sami</td>\n",
       "      <td>tsome digua</td>\n",
       "      <td>rebi</td>\n",
       "      <td>diquna</td>\n",
       "    </tr>\n",
       "    <tr>\n",
       "      <th>1</th>\n",
       "      <td>sami</td>\n",
       "      <td>tsome digua</td>\n",
       "      <td>rebi</td>\n",
       "      <td>diquna</td>\n",
       "    </tr>\n",
       "  </tbody>\n",
       "</table>\n",
       "</div>"
      ],
      "text/plain": [
       "   name  yederesebet debere kihinete dereja\n",
       "0  sami  tsome digua   rebi          diquna\n",
       "1  sami  tsome digua   rebi          diquna"
      ]
     },
     "execution_count": 5,
     "metadata": {},
     "output_type": "execute_result"
    }
   ],
   "source": [
    "df = pd.read_csv(\"abinet.csv\")\n",
    "df"
   ]
  },
  {
   "cell_type": "code",
   "execution_count": 6,
   "id": "0e8eec6e",
   "metadata": {},
   "outputs": [
    {
     "data": {
      "text/plain": [
       "name                      sami\n",
       "yederesebet        tsome digua\n",
       "debere                    rebi\n",
       "kihinete dereja         diquna\n",
       "Name: 1, dtype: object"
      ]
     },
     "execution_count": 6,
     "metadata": {},
     "output_type": "execute_result"
    }
   ],
   "source": [
    "#grab rows method 1: using location .\n",
    "df.loc[1] # if the rows index are string you pass the string like this: df.loc[\"nameofrow\"]"
   ]
  },
  {
   "cell_type": "code",
   "execution_count": 7,
   "id": "44fe92ee",
   "metadata": {},
   "outputs": [
    {
     "data": {
      "text/plain": [
       "name                      sami\n",
       "yederesebet        tsome digua\n",
       "debere                    rebi\n",
       "kihinete dereja         diquna\n",
       "Name: 0, dtype: object"
      ]
     },
     "execution_count": 7,
     "metadata": {},
     "output_type": "execute_result"
    }
   ],
   "source": [
    "# grab row using index location method: if the index is only in number\n",
    "df.iloc[0]"
   ]
  },
  {
   "cell_type": "code",
   "execution_count": 8,
   "id": "01003bbb",
   "metadata": {},
   "outputs": [
    {
     "data": {
      "text/plain": [
       "'rebi'"
      ]
     },
     "execution_count": 8,
     "metadata": {},
     "output_type": "execute_result"
    }
   ],
   "source": [
    "# grab specific points [rows,column] : data inside .\n",
    "# df.loc[row,colum]\n",
    "df.loc[1,\"debere\"]"
   ]
  },
  {
   "cell_type": "code",
   "execution_count": 9,
   "id": "c2a16503",
   "metadata": {},
   "outputs": [
    {
     "data": {
      "text/html": [
       "<div>\n",
       "<style scoped>\n",
       "    .dataframe tbody tr th:only-of-type {\n",
       "        vertical-align: middle;\n",
       "    }\n",
       "\n",
       "    .dataframe tbody tr th {\n",
       "        vertical-align: top;\n",
       "    }\n",
       "\n",
       "    .dataframe thead th {\n",
       "        text-align: right;\n",
       "    }\n",
       "</style>\n",
       "<table border=\"1\" class=\"dataframe\">\n",
       "  <thead>\n",
       "    <tr style=\"text-align: right;\">\n",
       "      <th></th>\n",
       "      <th>debere</th>\n",
       "      <th>name</th>\n",
       "    </tr>\n",
       "  </thead>\n",
       "  <tbody>\n",
       "    <tr>\n",
       "      <th>0</th>\n",
       "      <td>rebi</td>\n",
       "      <td>sami</td>\n",
       "    </tr>\n",
       "    <tr>\n",
       "      <th>1</th>\n",
       "      <td>rebi</td>\n",
       "      <td>sami</td>\n",
       "    </tr>\n",
       "  </tbody>\n",
       "</table>\n",
       "</div>"
      ],
      "text/plain": [
       "  debere  name\n",
       "0   rebi  sami\n",
       "1   rebi  sami"
      ]
     },
     "execution_count": 9,
     "metadata": {},
     "output_type": "execute_result"
    }
   ],
   "source": [
    "#grab subsets\n",
    "# df.loc[[row,row], ['column 1','column 2']]\n",
    "df.loc[[0,1],['debere','name']] # the order tah you put in matters."
   ]
  },
  {
   "cell_type": "code",
   "execution_count": null,
   "id": "451904c9",
   "metadata": {},
   "outputs": [],
   "source": []
  }
 ],
 "metadata": {
  "kernelspec": {
   "display_name": "Python 3 (ipykernel)",
   "language": "python",
   "name": "python3"
  },
  "language_info": {
   "codemirror_mode": {
    "name": "ipython",
    "version": 3
   },
   "file_extension": ".py",
   "mimetype": "text/x-python",
   "name": "python",
   "nbconvert_exporter": "python",
   "pygments_lexer": "ipython3",
   "version": "3.11.5"
  }
 },
 "nbformat": 4,
 "nbformat_minor": 5
}
