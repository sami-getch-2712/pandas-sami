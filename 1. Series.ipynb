{
 "cells": [
  {
   "cell_type": "code",
   "execution_count": 1,
   "id": "ea36289c",
   "metadata": {},
   "outputs": [],
   "source": [
    "import pandas as pd\n"
   ]
  },
  {
   "cell_type": "code",
   "execution_count": 2,
   "id": "3ac3a908",
   "metadata": {},
   "outputs": [],
   "source": [
    "# pandas series : are like column in the table , they are only one dimensional array of any type."
   ]
  },
  {
   "cell_type": "code",
   "execution_count": 4,
   "id": "f02072db",
   "metadata": {},
   "outputs": [],
   "source": [
    "my_series = [1,2,3,4] # creating array\n",
    "my_var = pd.Series(my_series) # creating pandas series from Array."
   ]
  },
  {
   "cell_type": "code",
   "execution_count": 5,
   "id": "94be53ac",
   "metadata": {},
   "outputs": [
    {
     "data": {
      "text/plain": [
       "0    1\n",
       "1    2\n",
       "2    3\n",
       "3    4\n",
       "dtype: int64"
      ]
     },
     "execution_count": 5,
     "metadata": {},
     "output_type": "execute_result"
    }
   ],
   "source": [
    "my_var"
   ]
  },
  {
   "cell_type": "code",
   "execution_count": 6,
   "id": "0345242f",
   "metadata": {},
   "outputs": [],
   "source": [
    "#print specific value from Series"
   ]
  },
  {
   "cell_type": "code",
   "execution_count": 7,
   "id": "2c327af1",
   "metadata": {},
   "outputs": [
    {
     "data": {
      "text/plain": [
       "3"
      ]
     },
     "execution_count": 7,
     "metadata": {},
     "output_type": "execute_result"
    }
   ],
   "source": [
    "my_var[2]# is the same as accessing values of 1 Dimensional Array."
   ]
  },
  {
   "cell_type": "code",
   "execution_count": 8,
   "id": "6ff7ff63",
   "metadata": {},
   "outputs": [],
   "source": [
    "#creating labels using Index Argument"
   ]
  },
  {
   "cell_type": "code",
   "execution_count": 9,
   "id": "1c6cd84f",
   "metadata": {},
   "outputs": [
    {
     "data": {
      "text/plain": [
       "A    1\n",
       "B    2\n",
       "C    3\n",
       "D    4\n",
       "dtype: int64"
      ]
     },
     "execution_count": 9,
     "metadata": {},
     "output_type": "execute_result"
    }
   ],
   "source": [
    "my_index = [\"A\", \"B\", \"C\", \"D\"]\n",
    "my_var2 = pd.Series(my_series, my_index) # or my_var2 = pd.Series(my_series, [\"A\", \"B\", \"C\", \"D\"]) or my_var2 = pd.Series(my_series, index=my_index)\n",
    "my_var2"
   ]
  },
  {
   "cell_type": "code",
   "execution_count": 10,
   "id": "a06642ea",
   "metadata": {},
   "outputs": [],
   "source": [
    "#print specific value from Series using index"
   ]
  },
  {
   "cell_type": "code",
   "execution_count": 11,
   "id": "668054c1",
   "metadata": {},
   "outputs": [
    {
     "data": {
      "text/plain": [
       "2"
      ]
     },
     "execution_count": 11,
     "metadata": {},
     "output_type": "execute_result"
    }
   ],
   "source": [
    "my_var2[\"B\"] # also my_var2[1] : returns the same 2 : you can use in vice versa"
   ]
  },
  {
   "cell_type": "code",
   "execution_count": null,
   "id": "8d0f59b5",
   "metadata": {},
   "outputs": [],
   "source": [
    "#you can do all of the above steps only using python dictionary. without creating index for the array."
   ]
  },
  {
   "cell_type": "code",
   "execution_count": 12,
   "id": "1f22f8d5",
   "metadata": {},
   "outputs": [
    {
     "data": {
      "text/plain": [
       "Tesla       12\n",
       "Mereceds    42\n",
       "BMW         20\n",
       "dtype: int64"
      ]
     },
     "execution_count": 12,
     "metadata": {},
     "output_type": "execute_result"
    }
   ],
   "source": [
    "cars = {\"Tesla\": 12, \"Mereceds\": 42 , \"BMW\": 20} #python dictionary\n",
    "my_var3 = pd.Series(cars) # we don't have to create labels and index b/c it created from the dictionary.\n",
    "my_var3"
   ]
  },
  {
   "cell_type": "code",
   "execution_count": null,
   "id": "b31eca32",
   "metadata": {},
   "outputs": [],
   "source": [
    "# access specific value  "
   ]
  },
  {
   "cell_type": "code",
   "execution_count": 13,
   "id": "a5ef4ac0",
   "metadata": {},
   "outputs": [
    {
     "data": {
      "text/plain": [
       "12"
      ]
     },
     "execution_count": 13,
     "metadata": {},
     "output_type": "execute_result"
    }
   ],
   "source": [
    "my_var3[\"Tesla\"]"
   ]
  },
  {
   "cell_type": "code",
   "execution_count": null,
   "id": "957db74a",
   "metadata": {},
   "outputs": [],
   "source": []
  }
 ],
 "metadata": {
  "kernelspec": {
   "display_name": "Python 3 (ipykernel)",
   "language": "python",
   "name": "python3"
  },
  "language_info": {
   "codemirror_mode": {
    "name": "ipython",
    "version": 3
   },
   "file_extension": ".py",
   "mimetype": "text/x-python",
   "name": "python",
   "nbconvert_exporter": "python",
   "pygments_lexer": "ipython3",
   "version": "3.11.5"
  }
 },
 "nbformat": 4,
 "nbformat_minor": 5
}
